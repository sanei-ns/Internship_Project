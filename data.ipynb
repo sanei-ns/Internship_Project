{
 "cells": [
  {
   "cell_type": "code",
   "execution_count": 78,
   "metadata": {},
   "outputs": [],
   "source": [
    "import pandas as pd \n",
    "import numpy as np "
   ]
  },
  {
   "cell_type": "code",
   "execution_count": 79,
   "metadata": {},
   "outputs": [],
   "source": [
    "df = pd.read_csv('gct.csv')"
   ]
  },
  {
   "cell_type": "code",
   "execution_count": 80,
   "metadata": {},
   "outputs": [],
   "source": [
    "import seaborn as sns\n",
    "import matplotlib.pyplot as plt\n",
    "%matplotlib inline"
   ]
  },
  {
   "cell_type": "code",
   "execution_count": 83,
   "metadata": {},
   "outputs": [],
   "source": [
    "a=df.index;a=str(a);a=a.split('stop=');a=a[1].split(',')\n",
    "df_index=int(a[0])"
   ]
  },
  {
   "cell_type": "code",
   "execution_count": 98,
   "metadata": {},
   "outputs": [
    {
     "data": {
      "text/html": [
       "<div>\n",
       "<style scoped>\n",
       "    .dataframe tbody tr th:only-of-type {\n",
       "        vertical-align: middle;\n",
       "    }\n",
       "\n",
       "    .dataframe tbody tr th {\n",
       "        vertical-align: top;\n",
       "    }\n",
       "\n",
       "    .dataframe thead th {\n",
       "        text-align: right;\n",
       "    }\n",
       "</style>\n",
       "<table border=\"1\" class=\"dataframe\">\n",
       "  <thead>\n",
       "    <tr style=\"text-align: right;\">\n",
       "      <th></th>\n",
       "      <th>No.</th>\n",
       "      <th>Date Time</th>\n",
       "      <th>Time</th>\n",
       "      <th>Source</th>\n",
       "      <th>Source port</th>\n",
       "      <th>Destination</th>\n",
       "      <th>Destination Port</th>\n",
       "      <th>Protocol</th>\n",
       "      <th>Length</th>\n",
       "      <th>Time to live</th>\n",
       "      <th>Info</th>\n",
       "      <th>Expert Info</th>\n",
       "      <th>Hardware Src Addr</th>\n",
       "      <th>Hardware Dest Addr</th>\n",
       "    </tr>\n",
       "  </thead>\n",
       "  <tbody>\n",
       "    <tr>\n",
       "      <th>0</th>\n",
       "      <td>1</td>\n",
       "      <td>2019/165 20:50:17.725821160</td>\n",
       "      <td>0.000000</td>\n",
       "      <td>192.168.42.93</td>\n",
       "      <td>50399</td>\n",
       "      <td>224.0.0.252</td>\n",
       "      <td>llmnr</td>\n",
       "      <td>LLMNR</td>\n",
       "      <td>68</td>\n",
       "      <td>1.0</td>\n",
       "      <td>Standard query 0x8b78 A isatap</td>\n",
       "      <td>NaN</td>\n",
       "      <td>CompalIn_db:0a:c1</td>\n",
       "      <td>NaN</td>\n",
       "    </tr>\n",
       "    <tr>\n",
       "      <th>1</th>\n",
       "      <td>2</td>\n",
       "      <td>2019/165 20:50:17.732741041</td>\n",
       "      <td>0.006920</td>\n",
       "      <td>CompalIn_db:0a:c1</td>\n",
       "      <td>NaN</td>\n",
       "      <td>NaN</td>\n",
       "      <td>NaN</td>\n",
       "      <td>ARP</td>\n",
       "      <td>62</td>\n",
       "      <td>NaN</td>\n",
       "      <td>Who has 192.168.42.254? Tell 192.168.42.93</td>\n",
       "      <td>NaN</td>\n",
       "      <td>CompalIn_db:0a:c1</td>\n",
       "      <td>NaN</td>\n",
       "    </tr>\n",
       "    <tr>\n",
       "      <th>2</th>\n",
       "      <td>3</td>\n",
       "      <td>2019/165 20:50:17.790897642</td>\n",
       "      <td>0.065076</td>\n",
       "      <td>Toshiba_db:31:83</td>\n",
       "      <td>NaN</td>\n",
       "      <td>NaN</td>\n",
       "      <td>NaN</td>\n",
       "      <td>ARP</td>\n",
       "      <td>62</td>\n",
       "      <td>NaN</td>\n",
       "      <td>Who has 192.168.42.235? Tell 192.168.42.110</td>\n",
       "      <td>NaN</td>\n",
       "      <td>Toshiba_db:31:83</td>\n",
       "      <td>NaN</td>\n",
       "    </tr>\n",
       "    <tr>\n",
       "      <th>3</th>\n",
       "      <td>4</td>\n",
       "      <td>2019/165 20:50:17.791256902</td>\n",
       "      <td>0.065436</td>\n",
       "      <td>192.168.42.26</td>\n",
       "      <td>13878</td>\n",
       "      <td>255.255.255.255</td>\n",
       "      <td>13364</td>\n",
       "      <td>UDP</td>\n",
       "      <td>62</td>\n",
       "      <td>128.0</td>\n",
       "      <td>13878  &gt;  13364 Len=10</td>\n",
       "      <td>NaN</td>\n",
       "      <td>RealtekS_7e:16:54</td>\n",
       "      <td>NaN</td>\n",
       "    </tr>\n",
       "    <tr>\n",
       "      <th>4</th>\n",
       "      <td>5</td>\n",
       "      <td>2019/165 20:50:17.812351008</td>\n",
       "      <td>0.086530</td>\n",
       "      <td>Broadcom_a6:9e:16</td>\n",
       "      <td>NaN</td>\n",
       "      <td>NaN</td>\n",
       "      <td>NaN</td>\n",
       "      <td>ARP</td>\n",
       "      <td>62</td>\n",
       "      <td>NaN</td>\n",
       "      <td>Who has 192.168.42.254? Tell 192.168.42.4</td>\n",
       "      <td>NaN</td>\n",
       "      <td>Broadcom_a6:9e:16</td>\n",
       "      <td>NaN</td>\n",
       "    </tr>\n",
       "  </tbody>\n",
       "</table>\n",
       "</div>"
      ],
      "text/plain": [
       "   No.                    Date Time      Time             Source Source port  \\\n",
       "0    1  2019/165 20:50:17.725821160  0.000000      192.168.42.93       50399   \n",
       "1    2  2019/165 20:50:17.732741041  0.006920  CompalIn_db:0a:c1         NaN   \n",
       "2    3  2019/165 20:50:17.790897642  0.065076   Toshiba_db:31:83         NaN   \n",
       "3    4  2019/165 20:50:17.791256902  0.065436      192.168.42.26       13878   \n",
       "4    5  2019/165 20:50:17.812351008  0.086530  Broadcom_a6:9e:16         NaN   \n",
       "\n",
       "       Destination Destination Port Protocol  Length  Time to live  \\\n",
       "0      224.0.0.252            llmnr    LLMNR      68           1.0   \n",
       "1              NaN              NaN      ARP      62           NaN   \n",
       "2              NaN              NaN      ARP      62           NaN   \n",
       "3  255.255.255.255            13364      UDP      62         128.0   \n",
       "4              NaN              NaN      ARP      62           NaN   \n",
       "\n",
       "                                          Info Expert Info  Hardware Src Addr  \\\n",
       "0               Standard query 0x8b78 A isatap         NaN  CompalIn_db:0a:c1   \n",
       "1   Who has 192.168.42.254? Tell 192.168.42.93         NaN  CompalIn_db:0a:c1   \n",
       "2  Who has 192.168.42.235? Tell 192.168.42.110         NaN   Toshiba_db:31:83   \n",
       "3                       13878  >  13364 Len=10         NaN  RealtekS_7e:16:54   \n",
       "4    Who has 192.168.42.254? Tell 192.168.42.4         NaN  Broadcom_a6:9e:16   \n",
       "\n",
       "   Hardware Dest Addr  \n",
       "0                 NaN  \n",
       "1                 NaN  \n",
       "2                 NaN  \n",
       "3                 NaN  \n",
       "4                 NaN  "
      ]
     },
     "execution_count": 98,
     "metadata": {},
     "output_type": "execute_result"
    }
   ],
   "source": [
    "df.head()"
   ]
  },
  {
   "cell_type": "code",
   "execution_count": 96,
   "metadata": {},
   "outputs": [
    {
     "data": {
      "text/plain": [
       "<matplotlib.axes._subplots.AxesSubplot at 0x7f7c50dd5048>"
      ]
     },
     "execution_count": 96,
     "metadata": {},
     "output_type": "execute_result"
    },
    {
     "data": {
      "image/png": "[encoded data removed]",
      "text/plain": [
       "<Figure size 864x648 with 1 Axes>"
      ]
     },
     "metadata": {
      "needs_background": "light"
     },
     "output_type": "display_data"
    }
   ],
   "source": [
    "plt.figure(figsize=(12,9))\n",
    "sns.heatmap(df.isnull(),cmap='viridis',cbar=False )"
   ]
  },
  {
   "cell_type": "code",
   "execution_count": null,
   "metadata": {},
   "outputs": [],
   "source": []
  }
 ],
 "metadata": {
  "kernelspec": {
   "display_name": "Python 3",
   "language": "python",
   "name": "python3"
  },
  "language_info": {
   "codemirror_mode": {
    "name": "ipython",
    "version": 3
   },
   "file_extension": ".py",
   "mimetype": "text/x-python",
   "name": "python",
   "nbconvert_exporter": "python",
   "pygments_lexer": "ipython3",
   "version": "3.7.3"
  }
 },
 "nbformat": 4,
 "nbformat_minor": 2
}
